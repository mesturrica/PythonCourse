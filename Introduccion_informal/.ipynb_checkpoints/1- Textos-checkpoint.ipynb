{
 "cells": [
  {
   "cell_type": "code",
   "execution_count": 1,
   "metadata": {},
   "outputs": [
    {
     "data": {
      "text/plain": [
       "'Hola Mundo'"
      ]
     },
     "execution_count": 1,
     "metadata": {},
     "output_type": "execute_result"
    }
   ],
   "source": [
    "'Hola Mundo'"
   ]
  },
  {
   "cell_type": "code",
   "execution_count": 2,
   "metadata": {},
   "outputs": [
    {
     "data": {
      "text/plain": [
       "'Hola Mundo'"
      ]
     },
     "execution_count": 2,
     "metadata": {},
     "output_type": "execute_result"
    }
   ],
   "source": [
    "\"Hola Mundo\""
   ]
  },
  {
   "cell_type": "code",
   "execution_count": 4,
   "metadata": {},
   "outputs": [
    {
     "data": {
      "text/plain": [
       "'Esta \"palabra\" se encuentra entre comillas dobles'"
      ]
     },
     "execution_count": 4,
     "metadata": {},
     "output_type": "execute_result"
    }
   ],
   "source": [
    "# \\caracter de escape\n",
    "\"Esta \\\"palabra\\\" se encuentra entre comillas dobles\""
   ]
  },
  {
   "cell_type": "code",
   "execution_count": 6,
   "metadata": {},
   "outputs": [
    {
     "data": {
      "text/plain": [
       "\"Esta 'palabra' se encuentra entre comillas dobles\""
      ]
     },
     "execution_count": 6,
     "metadata": {},
     "output_type": "execute_result"
    }
   ],
   "source": [
    "'Esta \\'palabra\\' se encuentra entre comillas dobles'"
   ]
  },
  {
   "cell_type": "code",
   "execution_count": 7,
   "metadata": {},
   "outputs": [
    {
     "data": {
      "text/plain": [
       "'otra cadena mas'"
      ]
     },
     "execution_count": 7,
     "metadata": {},
     "output_type": "execute_result"
    }
   ],
   "source": [
    "\"una cadena\"\n",
    "'otra cadena'\n",
    "'otra cadena mas'"
   ]
  },
  {
   "cell_type": "code",
   "execution_count": 8,
   "metadata": {},
   "outputs": [
    {
     "name": "stdout",
     "output_type": "stream",
     "text": [
      "Una cadena\n",
      "otra cadena\n",
      "otra cadena mas\n"
     ]
    }
   ],
   "source": [
    "print(\"Una cadena\")\n",
    "print('otra cadena')\n",
    "print('otra cadena mas')"
   ]
  },
  {
   "cell_type": "code",
   "execution_count": 9,
   "metadata": {},
   "outputs": [
    {
     "name": "stdout",
     "output_type": "stream",
     "text": [
      "Un Texto\tuna tabulación\n"
     ]
    }
   ],
   "source": [
    "print(\"Un Texto\\tuna tabulación\")"
   ]
  },
  {
   "cell_type": "code",
   "execution_count": 10,
   "metadata": {},
   "outputs": [
    {
     "name": "stdout",
     "output_type": "stream",
     "text": [
      "un texto\n",
      "una nueva linea\n"
     ]
    }
   ],
   "source": [
    "print(\"un texto\\nuna nueva linea\")"
   ]
  },
  {
   "cell_type": "code",
   "execution_count": 11,
   "metadata": {},
   "outputs": [
    {
     "name": "stdout",
     "output_type": "stream",
     "text": [
      "C:\n",
      "ombre\\directorio\n"
     ]
    }
   ],
   "source": [
    "print(\"C:\\nombre\\directorio\")"
   ]
  },
  {
   "cell_type": "code",
   "execution_count": 12,
   "metadata": {},
   "outputs": [
    {
     "name": "stdout",
     "output_type": "stream",
     "text": [
      "C:\\nombre\\directorio\n"
     ]
    }
   ],
   "source": [
    "# r significa raw, muestra el texto tal cual, en sucio, sin interpretar los saltos de linea.\n",
    "print(r\"C:\\nombre\\directorio\")"
   ]
  },
  {
   "cell_type": "code",
   "execution_count": 13,
   "metadata": {},
   "outputs": [
    {
     "name": "stdout",
     "output_type": "stream",
     "text": [
      "Una linea\n",
      "otra linea\n",
      "otra linea\n"
     ]
    }
   ],
   "source": [
    "print(\"\"\"Una linea\n",
    "otra linea\n",
    "otra linea\"\"\")"
   ]
  },
  {
   "cell_type": "code",
   "execution_count": 14,
   "metadata": {},
   "outputs": [],
   "source": [
    "c = \"Esto es una cadena\\ncon dos lineas\""
   ]
  },
  {
   "cell_type": "code",
   "execution_count": 15,
   "metadata": {},
   "outputs": [
    {
     "data": {
      "text/plain": [
       "'Esto es una cadena\\ncon dos lineas'"
      ]
     },
     "execution_count": 15,
     "metadata": {},
     "output_type": "execute_result"
    }
   ],
   "source": [
    "c"
   ]
  },
  {
   "cell_type": "code",
   "execution_count": 16,
   "metadata": {},
   "outputs": [
    {
     "name": "stdout",
     "output_type": "stream",
     "text": [
      "Esto es una cadena\n",
      "con dos lineas\n"
     ]
    }
   ],
   "source": [
    "print(c)"
   ]
  },
  {
   "cell_type": "code",
   "execution_count": 17,
   "metadata": {},
   "outputs": [
    {
     "data": {
      "text/plain": [
       "'Esto es una cadena\\ncon dos lineasEsto es una cadena\\ncon dos lineas'"
      ]
     },
     "execution_count": 17,
     "metadata": {},
     "output_type": "execute_result"
    }
   ],
   "source": [
    "c+c"
   ]
  },
  {
   "cell_type": "code",
   "execution_count": 18,
   "metadata": {},
   "outputs": [
    {
     "name": "stdout",
     "output_type": "stream",
     "text": [
      "Esto es una cadena\n",
      "con dos lineasEsto es una cadena\n",
      "con dos lineas\n"
     ]
    }
   ],
   "source": [
    "print(c+c)"
   ]
  },
  {
   "cell_type": "code",
   "execution_count": 19,
   "metadata": {},
   "outputs": [
    {
     "name": "stdout",
     "output_type": "stream",
     "text": [
      "Una cadenacompuesta de dos cadenas\n"
     ]
    }
   ],
   "source": [
    "s = \"Una cadena\" \"compuesta de dos cadenas\"\n",
    "print(s)"
   ]
  },
  {
   "cell_type": "code",
   "execution_count": 22,
   "metadata": {},
   "outputs": [
    {
     "name": "stdout",
     "output_type": "stream",
     "text": [
      "Una cadenaOtro texto\n"
     ]
    }
   ],
   "source": [
    "c1 = \"Una cadena\"\n",
    "c2 = \"Otro texto\"\n",
    "\n",
    "print(c1+c2)"
   ]
  },
  {
   "cell_type": "code",
   "execution_count": 23,
   "metadata": {},
   "outputs": [
    {
     "name": "stdout",
     "output_type": "stream",
     "text": [
      "          Un texto a diez espacios\n"
     ]
    }
   ],
   "source": [
    "diez_espacios = \" \" * 10\n",
    "print(diez_espacios + \"Un texto a diez espacios\")"
   ]
  }
 ],
 "metadata": {
  "kernelspec": {
   "display_name": "Python 3",
   "language": "python",
   "name": "python3"
  },
  "language_info": {
   "codemirror_mode": {
    "name": "ipython",
    "version": 3
   },
   "file_extension": ".py",
   "mimetype": "text/x-python",
   "name": "python",
   "nbconvert_exporter": "python",
   "pygments_lexer": "ipython3",
   "version": "3.7.6"
  }
 },
 "nbformat": 4,
 "nbformat_minor": 4
}
